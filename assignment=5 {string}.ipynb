{
 "cells": [
  {
   "cell_type": "markdown",
   "id": "dfd8db97",
   "metadata": {},
   "source": [
    "no:1"
   ]
  },
  {
   "cell_type": "code",
   "execution_count": 58,
   "id": "a1ecdf77",
   "metadata": {},
   "outputs": [
    {
     "name": "stdout",
     "output_type": "stream",
     "text": [
      "the ascii value of h is 104\n",
      "the ascii value of e is 101\n",
      "the ascii value of l is 108\n",
      "the ascii value of l is 108\n",
      "the ascii value of o is 111\n"
     ]
    }
   ],
   "source": [
    "# WAP ask the user iterate over a name 'hello' and print all ascii numbers\n",
    "name=\"hello\"\n",
    "for i in name:\n",
    "    print(f\"the ascii value of {i} is {ord(i)}\")"
   ]
  },
  {
   "cell_type": "code",
   "execution_count": 23,
   "id": "65cf935b",
   "metadata": {},
   "outputs": [
    {
     "name": "stdout",
     "output_type": "stream",
     "text": [
      "the ascii value of h is 104\n",
      "the ascii value of e is 101\n",
      "the ascii value of l is 108\n",
      "the ascii value of l is 108\n",
      "the ascii value of o is 111\n"
     ]
    }
   ],
   "source": [
    "# while loop\n",
    "name=\"hello\"\n",
    "i=0\n",
    "while i<len(name): \n",
    "    print(f\"the ascii value of {name[i]} is {ord(name[i])}\")\n",
    "    i=i+1"
   ]
  },
  {
   "cell_type": "markdown",
   "id": "9491db7f",
   "metadata": {},
   "source": [
    "no:2"
   ]
  },
  {
   "cell_type": "code",
   "execution_count": 24,
   "id": "f6bfeec3",
   "metadata": {},
   "outputs": [
    {
     "data": {
      "text/plain": [
       "['Formatter',\n",
       " 'Template',\n",
       " '_ChainMap',\n",
       " '__all__',\n",
       " '__builtins__',\n",
       " '__cached__',\n",
       " '__doc__',\n",
       " '__file__',\n",
       " '__loader__',\n",
       " '__name__',\n",
       " '__package__',\n",
       " '__spec__',\n",
       " '_re',\n",
       " '_sentinel_dict',\n",
       " '_string',\n",
       " 'ascii_letters',\n",
       " 'ascii_lowercase',\n",
       " 'ascii_uppercase',\n",
       " 'capwords',\n",
       " 'digits',\n",
       " 'hexdigits',\n",
       " 'octdigits',\n",
       " 'printable',\n",
       " 'punctuation',\n",
       " 'whitespace']"
      ]
     },
     "execution_count": 24,
     "metadata": {},
     "output_type": "execute_result"
    }
   ],
   "source": [
    "#find all the ascii value of  alphabet\n",
    "import string\n",
    "dir(string)"
   ]
  },
  {
   "cell_type": "code",
   "execution_count": 36,
   "id": "b2b11fc0",
   "metadata": {},
   "outputs": [
    {
     "name": "stdout",
     "output_type": "stream",
     "text": [
      "A:65 B:66 C:67 D:68 E:69 F:70 G:71 H:72 I:73 J:74 K:75 L:76 M:77 N:78 O:79 P:80 Q:81 R:82 S:83 T:84 U:85 V:86 W:87 X:88 Y:89 Z:90 "
     ]
    }
   ],
   "source": [
    "#for loop\n",
    "name=string.ascii_uppercase\n",
    "for i in name:\n",
    "    print(f\"{i}:{ord(i)}\",end=\" \")"
   ]
  },
  {
   "cell_type": "code",
   "execution_count": 35,
   "id": "ae1906ed",
   "metadata": {},
   "outputs": [
    {
     "name": "stdout",
     "output_type": "stream",
     "text": [
      "a:97 b:98 c:99 d:100 e:101 f:102 g:103 h:104 i:105 j:106 k:107 l:108 m:109 n:110 o:111 p:112 q:113 r:114 s:115 t:116 u:117 v:118 w:119 x:120 y:121 z:122 "
     ]
    }
   ],
   "source": [
    "#while loop\n",
    "name=string.ascii_lowercase\n",
    "i=0\n",
    "while i<len(name):\n",
    "    print(f\"{name[i]}:{ord(name[i])}\",end=\" \")\n",
    "    i+=1"
   ]
  },
  {
   "cell_type": "markdown",
   "id": "681ce392",
   "metadata": {},
   "source": [
    "no:3"
   ]
  },
  {
   "cell_type": "code",
   "execution_count": 37,
   "id": "5df17ea2",
   "metadata": {},
   "outputs": [
    {
     "name": "stdout",
     "output_type": "stream",
     "text": [
      "p y t h o n p y t h o n "
     ]
    }
   ],
   "source": [
    "#iterate the string by [in operator and range]\n",
    "#in\n",
    "name=\"python\"\n",
    "for i in name:\n",
    "    print(f\"{i}\",end=\" \")\n",
    "#index \n",
    "for i in range(6):\n",
    "    print(f\"{name[i]}\",end=\" \")"
   ]
  },
  {
   "cell_type": "code",
   "execution_count": 38,
   "id": "a53ab23a",
   "metadata": {},
   "outputs": [
    {
     "name": "stdout",
     "output_type": "stream",
     "text": [
      "p y t h o n "
     ]
    }
   ],
   "source": [
    "#while loop\n",
    "name=\"python\"\n",
    "i=0\n",
    "while i<len(name):\n",
    "    print(f\"{name[i]}\",end=\" \")\n",
    "    i+=1"
   ]
  },
  {
   "cell_type": "markdown",
   "id": "52d40d4c",
   "metadata": {},
   "source": [
    "no:4"
   ]
  },
  {
   "cell_type": "code",
   "execution_count": 44,
   "id": "476915b6",
   "metadata": {},
   "outputs": [
    {
     "name": "stdout",
     "output_type": "stream",
     "text": [
      "p 0\n",
      "y 1\n",
      "t 2\n",
      "h 3\n",
      "o 4\n",
      "n 5\n"
     ]
    }
   ],
   "source": [
    "# wap ask the user iterate a name 'python' print like below\n",
    "# 'the postive index for p is 0'\n",
    "# 'the postive index for y is 1'\n",
    "# 0 1 2 3 4 5 ===== print\n",
    "#for \n",
    "name=\"python\"\n",
    "for i in range(len(name)):\n",
    "    print(f\"{name[i]} {i}\")"
   ]
  },
  {
   "cell_type": "code",
   "execution_count": 46,
   "id": "06a46a25",
   "metadata": {},
   "outputs": [
    {
     "name": "stdout",
     "output_type": "stream",
     "text": [
      "0 p\n",
      "1 y\n",
      "2 t\n",
      "3 h\n",
      "4 o\n",
      "5 n\n"
     ]
    }
   ],
   "source": [
    "#while\n",
    "name=\"python\"\n",
    "i=0\n",
    "while i<len(name):\n",
    "    print(f\"{i} {name[i]}\")\n",
    "    i=i+1"
   ]
  },
  {
   "cell_type": "markdown",
   "id": "c7279187",
   "metadata": {},
   "source": [
    "no:5"
   ]
  },
  {
   "cell_type": "code",
   "execution_count": 49,
   "id": "71027158",
   "metadata": {},
   "outputs": [
    {
     "name": "stdout",
     "output_type": "stream",
     "text": [
      "-6 p\n",
      "-5 y\n",
      "-4 t\n",
      "-3 h\n",
      "-2 o\n",
      "-1 n\n"
     ]
    }
   ],
   "source": [
    "# wap ask the user iterate a name 'python' print like below\n",
    "# 'the negative index for p is -6'\n",
    "# 'the negative index for y is -5'\n",
    "# to print -6 -5 -4 -3 -2 -1\n",
    "#for\n",
    "name=\"python\"\n",
    "for i in range(-len(name),0):\n",
    "    print(f\"{i} {name[i]}\")"
   ]
  },
  {
   "cell_type": "code",
   "execution_count": 50,
   "id": "d5f91cbc",
   "metadata": {},
   "outputs": [
    {
     "name": "stdout",
     "output_type": "stream",
     "text": [
      "-6 p\n",
      "-5 y\n",
      "-4 t\n",
      "-3 h\n",
      "-2 o\n",
      "-1 n\n"
     ]
    }
   ],
   "source": [
    "#while\n",
    "name=\"python\"\n",
    "i=-len(name)\n",
    "while i<0:\n",
    "    print(f\"{i} {name[i]}\")\n",
    "    i=i+1"
   ]
  },
  {
   "cell_type": "markdown",
   "id": "a18e7a4a",
   "metadata": {},
   "source": [
    "no:6"
   ]
  },
  {
   "cell_type": "code",
   "execution_count": 55,
   "id": "ceb0954b",
   "metadata": {
    "scrolled": true
   },
   "outputs": [
    {
     "name": "stdout",
     "output_type": "stream",
     "text": [
      "the +ve index is 0,and the _ve index is -6 for p\n",
      "the +ve index is 1,and the _ve index is -5 for y\n",
      "the +ve index is 2,and the _ve index is -4 for t\n",
      "the +ve index is 3,and the _ve index is -3 for h\n",
      "the +ve index is 4,and the _ve index is -2 for o\n",
      "the +ve index is 5,and the _ve index is -1 for n\n"
     ]
    }
   ],
   "source": [
    "# wap ask the user iterate a name 'python' print like below\n",
    "#\"the postive index is 0 , and the negative index -6 for p\"\n",
    "#\"the postive index is 1 , and the negative index -5 for y\"\n",
    "#for\n",
    "name1=\"python\"\n",
    "for i in range(len(name1)):\n",
    "    print(f\"the +ve index is {i},and the _ve index is {i-len(name1)} for {name1[i]}\")\n",
    "    "
   ]
  },
  {
   "cell_type": "code",
   "execution_count": 57,
   "id": "940ea4a5",
   "metadata": {},
   "outputs": [
    {
     "name": "stdout",
     "output_type": "stream",
     "text": [
      "the +ve index is 0, and the -ve index is -6 for p\n",
      "the +ve index is 1, and the -ve index is -5 for y\n",
      "the +ve index is 2, and the -ve index is -4 for t\n",
      "the +ve index is 3, and the -ve index is -3 for h\n",
      "the +ve index is 4, and the -ve index is -2 for o\n",
      "the +ve index is 5, and the -ve index is -1 for n\n"
     ]
    }
   ],
   "source": [
    "# while\n",
    "name1=\"python\"\n",
    "i=0\n",
    "while i<len(name1):\n",
    "    print(f\"the +ve index is {i}, and the -ve index is {i-len(name1)} for {name[i]}\")\n",
    "    i=i+1"
   ]
  },
  {
   "cell_type": "code",
   "execution_count": null,
   "id": "e59695fc",
   "metadata": {},
   "outputs": [],
   "source": []
  }
 ],
 "metadata": {
  "kernelspec": {
   "display_name": "Python 3 (ipykernel)",
   "language": "python",
   "name": "python3"
  },
  "language_info": {
   "codemirror_mode": {
    "name": "ipython",
    "version": 3
   },
   "file_extension": ".py",
   "mimetype": "text/x-python",
   "name": "python",
   "nbconvert_exporter": "python",
   "pygments_lexer": "ipython3",
   "version": "3.11.5"
  }
 },
 "nbformat": 4,
 "nbformat_minor": 5
}
